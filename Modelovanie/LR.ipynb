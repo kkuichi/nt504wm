{
 "cells": [
  {
   "cell_type": "markdown",
   "id": "9ce27ed6-ca33-4e1a-8695-1301e4c72925",
   "metadata": {},
   "source": [
    "# Logistická regresia"
   ]
  },
  {
   "cell_type": "markdown",
   "id": "d0b03c2c-d154-499c-8713-15f28de3eac3",
   "metadata": {},
   "source": [
    "## 1. Import knižníc"
   ]
  },
  {
   "cell_type": "code",
   "execution_count": 1,
   "id": "c422e4ed-963f-4508-a8c3-f88fa0156965",
   "metadata": {},
   "outputs": [],
   "source": [
    "from sklearn.linear_model import LogisticRegression\n",
    "from sklearn.model_selection import train_test_split\n",
    "from sklearn.metrics import classification_report\n",
    "from sklearn.metrics import accuracy_score\n",
    "from imblearn.over_sampling import RandomOverSampler\n",
    "from sklearn.metrics import confusion_matrix\n",
    "import pandas as pd\n",
    "import numpy as np\n",
    "import seaborn as sns\n",
    "import matplotlib.pyplot as plt"
   ]
  },
  {
   "cell_type": "markdown",
   "id": "f6ab7f84-b080-4309-88f9-e28b3e40d8bb",
   "metadata": {},
   "source": [
    "## 2. Pôvodné dáta"
   ]
  },
  {
   "cell_type": "markdown",
   "id": "be6eb7fc-079e-41ba-929f-14b78615190c",
   "metadata": {},
   "source": [
    "### a) bez redukcie"
   ]
  },
  {
   "cell_type": "code",
   "execution_count": 2,
   "id": "35701f0c-9f83-404c-a6d0-d89013a086ed",
   "metadata": {},
   "outputs": [
    {
     "name": "stdout",
     "output_type": "stream",
     "text": [
      "Kontingenčná tabuľka:\n",
      "col_0      0     1\n",
      "fraud             \n",
      "0      89528  5626\n",
      "1         55  4791\n",
      "Report:\n",
      "              precision    recall  f1-score   support\n",
      "\n",
      "           0     0.9994    0.9409    0.9692     95154\n",
      "           1     0.4599    0.9887    0.6278      4846\n",
      "\n",
      "    accuracy                         0.9432    100000\n",
      "   macro avg     0.7297    0.9648    0.7985    100000\n",
      "weighted avg     0.9732    0.9432    0.9527    100000\n",
      "\n",
      "Špecificita: 0.9409\n"
     ]
    },
    {
     "name": "stderr",
     "output_type": "stream",
     "text": [
      "c:\\Users\\natal\\anaconda3\\Lib\\site-packages\\sklearn\\linear_model\\_logistic.py:469: ConvergenceWarning: lbfgs failed to converge (status=1):\n",
      "STOP: TOTAL NO. of ITERATIONS REACHED LIMIT.\n",
      "\n",
      "Increase the number of iterations (max_iter) or scale the data as shown in:\n",
      "    https://scikit-learn.org/stable/modules/preprocessing.html\n",
      "Please also refer to the documentation for alternative solver options:\n",
      "    https://scikit-learn.org/stable/modules/linear_model.html#logistic-regression\n",
      "  n_iter_i = _check_optimize_result(\n"
     ]
    }
   ],
   "source": [
    "origin = pd.read_csv(\"../Priprava_dat/origin.csv\", index_col=0)\n",
    "X = origin.drop('fraud', axis=1)\n",
    "y = origin[ 'fraud']\n",
    "\n",
    "nadvzrk = RandomOverSampler(sampling_strategy='auto', random_state=42)\n",
    "\n",
    "X_train, X_test, y_train, y_test = train_test_split(X, y, test_size=0.2, random_state=42) \n",
    "X_train_resampled, y_train_resampled = nadvzrk.fit_resample(X_train, y_train)\n",
    "\n",
    "model = LogisticRegression(random_state=0).fit(X_train_resampled, y_train_resampled)\n",
    "\n",
    "predikovane = model.predict(X_test)\n",
    "\n",
    "print(\"Kontingenčná tabuľka:\")\n",
    "print(pd.crosstab(y_test, predikovane))\n",
    "print(\"Report:\")\n",
    "print(classification_report(y_test, predikovane, digits=4))\n",
    "\n",
    "tn, fp, fn, tp = confusion_matrix(y_test, predikovane).ravel()\n",
    "speci = tn / (tn + fp)\n",
    "print(\"Špecificita:\", round(speci, 4))"
   ]
  },
  {
   "cell_type": "markdown",
   "id": "d3f9f5a0-3d1f-40d4-a3cf-d86fa4984bde",
   "metadata": {},
   "source": [
    "### b) s redukciou"
   ]
  },
  {
   "cell_type": "code",
   "execution_count": 3,
   "id": "69b5aa8a-f683-4eba-9b2f-2aaae70e5d3d",
   "metadata": {},
   "outputs": [
    {
     "name": "stdout",
     "output_type": "stream",
     "text": [
      "Kontingenčná tabuľka:\n",
      "col_0      0     1\n",
      "fraud             \n",
      "0      88694  6460\n",
      "1         58  4788\n",
      "Report:\n",
      "              precision    recall  f1-score   support\n",
      "\n",
      "           0     0.9993    0.9321    0.9646     95154\n",
      "           1     0.4257    0.9880    0.5950      4846\n",
      "\n",
      "    accuracy                         0.9348    100000\n",
      "   macro avg     0.7125    0.9601    0.7798    100000\n",
      "weighted avg     0.9715    0.9348    0.9466    100000\n",
      "\n",
      "Špecificita: 0.9321\n"
     ]
    },
    {
     "name": "stderr",
     "output_type": "stream",
     "text": [
      "c:\\Users\\natal\\anaconda3\\Lib\\site-packages\\sklearn\\linear_model\\_logistic.py:469: ConvergenceWarning: lbfgs failed to converge (status=1):\n",
      "STOP: TOTAL NO. of ITERATIONS REACHED LIMIT.\n",
      "\n",
      "Increase the number of iterations (max_iter) or scale the data as shown in:\n",
      "    https://scikit-learn.org/stable/modules/preprocessing.html\n",
      "Please also refer to the documentation for alternative solver options:\n",
      "    https://scikit-learn.org/stable/modules/linear_model.html#logistic-regression\n",
      "  n_iter_i = _check_optimize_result(\n"
     ]
    }
   ],
   "source": [
    "origin_red = pd.read_csv(\"../Priprava_dat/origin_red.csv\", index_col=0)\n",
    "X = origin_red.drop('fraud', axis=1)\n",
    "y = origin_red[ 'fraud']\n",
    "\n",
    "nadvzrk = RandomOverSampler(sampling_strategy='auto', random_state=42)\n",
    "\n",
    "X_train, X_test, y_train, y_test = train_test_split(X, y, test_size=0.2, random_state=42) \n",
    "X_train_resampled, y_train_resampled = nadvzrk.fit_resample(X_train, y_train)\n",
    "\n",
    "model = LogisticRegression(random_state=0).fit(X_train_resampled, y_train_resampled)\n",
    "\n",
    "predikovane = model.predict(X_test)\n",
    "\n",
    "print(\"Kontingenčná tabuľka:\")\n",
    "print(pd.crosstab(y_test, predikovane))\n",
    "print(\"Report:\")\n",
    "print(classification_report(y_test, predikovane, digits=4))\n",
    "\n",
    "tn, fp, fn, tp = confusion_matrix(y_test, predikovane).ravel()\n",
    "speci = tn / (tn + fp)\n",
    "print(\"Špecificita:\", round(speci, 4))"
   ]
  },
  {
   "cell_type": "markdown",
   "id": "f277d8f2-adf3-4e22-bb34-2cb0dda834ad",
   "metadata": {},
   "source": [
    "## 3. Normalizované dáta"
   ]
  },
  {
   "cell_type": "markdown",
   "id": "3d446175-db39-4fcc-942a-d278adce2ed2",
   "metadata": {},
   "source": [
    "### a) bez redukcie"
   ]
  },
  {
   "cell_type": "code",
   "execution_count": 4,
   "id": "4af39776-9ec5-49d1-9cd7-793cee24650e",
   "metadata": {},
   "outputs": [
    {
     "name": "stdout",
     "output_type": "stream",
     "text": [
      "Kontingenčná tabuľka:\n",
      "col_0    0.0   1.0\n",
      "fraud             \n",
      "0.0    65717  2649\n",
      "1.0       38  4267\n",
      "Report:\n",
      "              precision    recall  f1-score   support\n",
      "\n",
      "         0.0     0.9994    0.9613    0.9800     68366\n",
      "         1.0     0.6170    0.9912    0.7605      4305\n",
      "\n",
      "    accuracy                         0.9630     72671\n",
      "   macro avg     0.8082    0.9762    0.8703     72671\n",
      "weighted avg     0.9768    0.9630    0.9670     72671\n",
      "\n",
      "Špecificita: 0.9613\n"
     ]
    },
    {
     "name": "stderr",
     "output_type": "stream",
     "text": [
      "c:\\Users\\natal\\anaconda3\\Lib\\site-packages\\sklearn\\linear_model\\_logistic.py:469: ConvergenceWarning: lbfgs failed to converge (status=1):\n",
      "STOP: TOTAL NO. of ITERATIONS REACHED LIMIT.\n",
      "\n",
      "Increase the number of iterations (max_iter) or scale the data as shown in:\n",
      "    https://scikit-learn.org/stable/modules/preprocessing.html\n",
      "Please also refer to the documentation for alternative solver options:\n",
      "    https://scikit-learn.org/stable/modules/linear_model.html#logistic-regression\n",
      "  n_iter_i = _check_optimize_result(\n"
     ]
    }
   ],
   "source": [
    "norm = pd.read_csv(\"../Priprava_dat/norm.csv\", index_col=0)\n",
    "X = norm[['trustLevel', 'totalScanTimeInSeconds','grandTotal', 'lineItemVoids', 'scansWithoutRegistration','quantityModifications', 'scannedLineItemsPerSecond', 'valuePerSecond', 'lineItemVoidsPerPosition']]\n",
    "y = norm[ 'fraud']\n",
    "\n",
    "nadvzrk = RandomOverSampler(sampling_strategy='auto', random_state=42)\n",
    "\n",
    "X_train, X_test, y_train, y_test = train_test_split(X, y, test_size=0.2, random_state=42) \n",
    "X_train_resampled, y_train_resampled = nadvzrk.fit_resample(X_train, y_train)\n",
    "\n",
    "model = LogisticRegression(random_state=0).fit(X_train_resampled, y_train_resampled)\n",
    "\n",
    "predikovane = model.predict(X_test)\n",
    "\n",
    "print(\"Kontingenčná tabuľka:\")\n",
    "print(pd.crosstab(y_test, predikovane))\n",
    "print(\"Report:\")\n",
    "print(classification_report(y_test, predikovane, digits=4))\n",
    "\n",
    "tn, fp, fn, tp = confusion_matrix(y_test, predikovane).ravel()\n",
    "speci = tn / (tn + fp)\n",
    "print(\"Špecificita:\", round(speci, 4))"
   ]
  },
  {
   "cell_type": "markdown",
   "id": "4b30bfb1-8905-48b3-bfe6-9842bfa8492b",
   "metadata": {},
   "source": [
    "### b) s redukciou"
   ]
  },
  {
   "cell_type": "code",
   "execution_count": 5,
   "id": "029952ad-b3a2-49c4-9b92-2ec9a1e2fac6",
   "metadata": {},
   "outputs": [
    {
     "name": "stdout",
     "output_type": "stream",
     "text": [
      "Kontingenčná tabuľka:\n",
      "col_0    0.0   1.0\n",
      "fraud             \n",
      "0.0    65621  2745\n",
      "1.0       38  4267\n",
      "Report:\n",
      "              precision    recall  f1-score   support\n",
      "\n",
      "         0.0     0.9994    0.9598    0.9792     68366\n",
      "         1.0     0.6085    0.9912    0.7541      4305\n",
      "\n",
      "    accuracy                         0.9617     72671\n",
      "   macro avg     0.8040    0.9755    0.8667     72671\n",
      "weighted avg     0.9763    0.9617    0.9659     72671\n",
      "\n",
      "Špecificita: 0.9598\n"
     ]
    }
   ],
   "source": [
    "norm_red = pd.read_csv(\"../Priprava_dat/norm_red.csv\", index_col=0)\n",
    "X = norm_red.drop('fraud', axis=1)\n",
    "y = norm_red[ 'fraud']\n",
    "\n",
    "nadvzrk = RandomOverSampler(sampling_strategy='auto', random_state=42)\n",
    "\n",
    "X_train, X_test, y_train, y_test = train_test_split(X, y, test_size=0.2, random_state=42) \n",
    "X_train_resampled, y_train_resampled = nadvzrk.fit_resample(X_train, y_train)\n",
    "\n",
    "model = LogisticRegression(random_state=0).fit(X_train_resampled, y_train_resampled)\n",
    "\n",
    "predikovane = model.predict(X_test)\n",
    "\n",
    "print(\"Kontingenčná tabuľka:\")\n",
    "print(pd.crosstab(y_test, predikovane))\n",
    "print(\"Report:\")\n",
    "print(classification_report(y_test, predikovane, digits=4))\n",
    "\n",
    "tn, fp, fn, tp = confusion_matrix(y_test, predikovane).ravel()\n",
    "speci = tn / (tn + fp)\n",
    "print(\"Špecificita:\", round(speci, 4))"
   ]
  },
  {
   "cell_type": "markdown",
   "id": "f0c863ab-2414-4880-9d58-107a1fe6cece",
   "metadata": {},
   "source": [
    "## 4. Diskretizované dáta"
   ]
  },
  {
   "cell_type": "markdown",
   "id": "cbb1282d-222b-467b-b396-7941d834624c",
   "metadata": {},
   "source": [
    "### a) bez redukcie"
   ]
  },
  {
   "cell_type": "code",
   "execution_count": 6,
   "id": "5d32c73f-f381-47c6-8127-9afbeb7c3a0c",
   "metadata": {},
   "outputs": [
    {
     "name": "stdout",
     "output_type": "stream",
     "text": [
      "Kontingenčná tabuľka:\n",
      "col_0    0.0   1.0\n",
      "fraud             \n",
      "0.0    64846  3520\n",
      "1.0       80  4225\n",
      "Report:\n",
      "              precision    recall  f1-score   support\n",
      "\n",
      "         0.0     0.9988    0.9485    0.9730     68366\n",
      "         1.0     0.5455    0.9814    0.7012      4305\n",
      "\n",
      "    accuracy                         0.9505     72671\n",
      "   macro avg     0.7721    0.9650    0.8371     72671\n",
      "weighted avg     0.9719    0.9505    0.9569     72671\n",
      "\n",
      "Špecificita: 0.9485\n"
     ]
    }
   ],
   "source": [
    "dis = pd.read_csv(\"../Priprava_dat/dis.csv\", index_col=0)\n",
    "X = dis[['trustLevel', 'totalScanTimeInSeconds','grandTotal', 'lineItemVoids', 'scansWithoutRegistration','quantityModifications', 'scannedLineItemsPerSecond', 'valuePerSecond', 'lineItemVoidsPerPosition']]\n",
    "y = dis[ 'fraud']\n",
    "\n",
    "nadvzrk = RandomOverSampler(sampling_strategy='auto', random_state=42)\n",
    "\n",
    "X_train, X_test, y_train, y_test = train_test_split(X, y, test_size=0.2, random_state=42) \n",
    "X_train_resampled, y_train_resampled = nadvzrk.fit_resample(X_train, y_train)\n",
    "\n",
    "model = LogisticRegression(random_state=0).fit(X_train_resampled, y_train_resampled)\n",
    "\n",
    "predikovane = model.predict(X_test)\n",
    "\n",
    "print(\"Kontingenčná tabuľka:\")\n",
    "print(pd.crosstab(y_test, predikovane))\n",
    "print(\"Report:\")\n",
    "print(classification_report(y_test, predikovane, digits=4))\n",
    "\n",
    "tn, fp, fn, tp = confusion_matrix(y_test, predikovane).ravel()\n",
    "speci = tn / (tn + fp)\n",
    "print(\"Špecificita:\", round(speci, 4))"
   ]
  },
  {
   "cell_type": "markdown",
   "id": "447eb638-2fe7-4c99-ad5b-5edaab37ff75",
   "metadata": {},
   "source": [
    "### b) s redukciou"
   ]
  },
  {
   "cell_type": "code",
   "execution_count": 7,
   "id": "5cb4ad7f-7b34-497f-8121-c4df5f3b488c",
   "metadata": {},
   "outputs": [
    {
     "name": "stdout",
     "output_type": "stream",
     "text": [
      "Kontingenčná tabuľka:\n",
      "col_0    0.0   1.0\n",
      "fraud             \n",
      "0.0    64682  3684\n",
      "1.0       82  4223\n",
      "Report:\n",
      "              precision    recall  f1-score   support\n",
      "\n",
      "         0.0     0.9987    0.9461    0.9717     68366\n",
      "         1.0     0.5341    0.9810    0.6916      4305\n",
      "\n",
      "    accuracy                         0.9482     72671\n",
      "   macro avg     0.7664    0.9635    0.8317     72671\n",
      "weighted avg     0.9712    0.9482    0.9551     72671\n",
      "\n",
      "Špecificita: 0.9461\n"
     ]
    }
   ],
   "source": [
    "dis_red = pd.read_csv(\"../Priprava_dat/dis_red.csv\", index_col=0)\n",
    "X = dis_red.drop('fraud', axis=1)\n",
    "y = dis_red[ 'fraud']\n",
    "\n",
    "nadvzrk = RandomOverSampler(sampling_strategy='auto', random_state=42)\n",
    "\n",
    "X_train, X_test, y_train, y_test = train_test_split(X, y, test_size=0.2, random_state=42) \n",
    "X_train_resampled, y_train_resampled = nadvzrk.fit_resample(X_train, y_train)\n",
    "\n",
    "model = LogisticRegression(random_state=0).fit(X_train_resampled, y_train_resampled)\n",
    "\n",
    "predikovane = model.predict(X_test)\n",
    "\n",
    "print(\"Kontingenčná tabuľka:\")\n",
    "print(pd.crosstab(y_test, predikovane))\n",
    "print(\"Report:\")\n",
    "print(classification_report(y_test, predikovane, digits=4))\n",
    "\n",
    "tn, fp, fn, tp = confusion_matrix(y_test, predikovane).ravel()\n",
    "speci = tn / (tn + fp)\n",
    "print(\"Špecificita:\", round(speci, 4))"
   ]
  },
  {
   "cell_type": "code",
   "execution_count": null,
   "id": "6a9bf9e5-cccd-47c6-b5e5-f29bb5fa01cd",
   "metadata": {},
   "outputs": [],
   "source": []
  }
 ],
 "metadata": {
  "kernelspec": {
   "display_name": "base",
   "language": "python",
   "name": "python3"
  },
  "language_info": {
   "codemirror_mode": {
    "name": "ipython",
    "version": 3
   },
   "file_extension": ".py",
   "mimetype": "text/x-python",
   "name": "python",
   "nbconvert_exporter": "python",
   "pygments_lexer": "ipython3",
   "version": "3.12.4"
  }
 },
 "nbformat": 4,
 "nbformat_minor": 5
}
