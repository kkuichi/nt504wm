{
 "cells": [
  {
   "cell_type": "markdown",
   "id": "9ce27ed6-ca33-4e1a-8695-1301e4c72925",
   "metadata": {},
   "source": [
    "# LightGBM"
   ]
  },
  {
   "cell_type": "markdown",
   "id": "d0b03c2c-d154-499c-8713-15f28de3eac3",
   "metadata": {},
   "source": [
    "## 1. Import knižníc"
   ]
  },
  {
   "cell_type": "code",
   "execution_count": null,
   "id": "c422e4ed-963f-4508-a8c3-f88fa0156965",
   "metadata": {},
   "outputs": [],
   "source": [
    "from lightgbm import LGBMClassifier\n",
    "from sklearn.model_selection import train_test_split\n",
    "from sklearn.metrics import classification_report\n",
    "from sklearn.metrics import accuracy_score\n",
    "from imblearn.over_sampling import RandomOverSampler\n",
    "from sklearn.metrics import confusion_matrix\n",
    "import pandas as pd\n",
    "import numpy as np\n",
    "import seaborn as sns\n",
    "import matplotlib.pyplot as plt"
   ]
  },
  {
   "cell_type": "markdown",
   "id": "f6ab7f84-b080-4309-88f9-e28b3e40d8bb",
   "metadata": {},
   "source": [
    "## 2. Pôvodné dáta"
   ]
  },
  {
   "cell_type": "markdown",
   "id": "8b59ee76-dd64-49a8-8d79-140e4aaf370a",
   "metadata": {},
   "source": [
    "### a) bez redukcie"
   ]
  },
  {
   "cell_type": "code",
   "execution_count": 3,
   "id": "35701f0c-9f83-404c-a6d0-d89013a086ed",
   "metadata": {},
   "outputs": [
    {
     "name": "stdout",
     "output_type": "stream",
     "text": [
      "[LightGBM] [Info] Number of positive: 381015, number of negative: 381015\n",
      "[LightGBM] [Info] Auto-choosing row-wise multi-threading, the overhead of testing was 0.005679 seconds.\n",
      "You can set `force_row_wise=true` to remove the overhead.\n",
      "And if memory is not enough, you can set `force_col_wise=true`.\n",
      "[LightGBM] [Info] Total Bins 1272\n",
      "[LightGBM] [Info] Number of data points in the train set: 762030, number of used features: 9\n",
      "[LightGBM] [Info] [binary:BoostFromScore]: pavg=0.500000 -> initscore=0.000000\n",
      "Kontingenčná tabuľka:\n",
      "col_0      0     1\n",
      "fraud             \n",
      "0      93487  1667\n",
      "1          1  4845\n",
      "Report:\n",
      "              precision    recall  f1-score   support\n",
      "\n",
      "           0     1.0000    0.9825    0.9912     95154\n",
      "           1     0.7440    0.9998    0.8531      4846\n",
      "\n",
      "    accuracy                         0.9833    100000\n",
      "   macro avg     0.8720    0.9911    0.9222    100000\n",
      "weighted avg     0.9876    0.9833    0.9845    100000\n",
      "\n",
      "Špecificita: 0.9825\n"
     ]
    }
   ],
   "source": [
    "origin = pd.read_csv(\"../Priprava_dat/origin.csv\", index_col=0)\n",
    "X = origin.drop('fraud', axis=1)\n",
    "y = origin[ 'fraud']\n",
    "\n",
    "nadvzrk = RandomOverSampler(sampling_strategy='auto', random_state=42)\n",
    "\n",
    "X_train, X_test, y_train, y_test = train_test_split(X, y, test_size=0.2, random_state=42) \n",
    "X_train_resampled, y_train_resampled = nadvzrk.fit_resample(X_train, y_train)\n",
    "\n",
    "model = LGBMClassifier(random_state=0)\n",
    "model.fit(X_train_resampled, y_train_resampled)\n",
    "\n",
    "predikovane = model.predict(X_test)\n",
    "\n",
    "print(\"Kontingenčná tabuľka:\")\n",
    "print(pd.crosstab(y_test, predikovane))\n",
    "print(\"Report:\")\n",
    "print(classification_report(y_test, predikovane, digits=4))\n",
    "\n",
    "tn, fp, fn, tp = confusion_matrix(y_test, predikovane).ravel()\n",
    "speci = tn / (tn + fp)\n",
    "print(\"Špecificita:\", round(speci, 4))\n"
   ]
  },
  {
   "cell_type": "markdown",
   "id": "a1ebc84a-819d-4ec3-b150-4317b296ac92",
   "metadata": {},
   "source": [
    "### b) s redukciou"
   ]
  },
  {
   "cell_type": "code",
   "execution_count": 3,
   "id": "69b5aa8a-f683-4eba-9b2f-2aaae70e5d3d",
   "metadata": {},
   "outputs": [
    {
     "name": "stdout",
     "output_type": "stream",
     "text": [
      "[LightGBM] [Info] Number of positive: 381015, number of negative: 381015\n",
      "[LightGBM] [Info] Auto-choosing row-wise multi-threading, the overhead of testing was 0.003788 seconds.\n",
      "You can set `force_row_wise=true` to remove the overhead.\n",
      "And if memory is not enough, you can set `force_col_wise=true`.\n",
      "[LightGBM] [Info] Total Bins 1011\n",
      "[LightGBM] [Info] Number of data points in the train set: 762030, number of used features: 7\n",
      "[LightGBM] [Info] [binary:BoostFromScore]: pavg=0.500000 -> initscore=0.000000\n",
      "Kontingenčná tabuľka:\n",
      "col_0      0     1\n",
      "fraud             \n",
      "0      93492  1662\n",
      "1          1  4845\n",
      "Report:\n",
      "              precision    recall  f1-score   support\n",
      "\n",
      "           0     1.0000    0.9825    0.9912     95154\n",
      "           1     0.7446    0.9998    0.8535      4846\n",
      "\n",
      "    accuracy                         0.9834    100000\n",
      "   macro avg     0.8723    0.9912    0.9224    100000\n",
      "weighted avg     0.9876    0.9834    0.9845    100000\n",
      "\n",
      "Špecificita: 0.9825\n"
     ]
    }
   ],
   "source": [
    "origin_red = pd.read_csv(\"../Priprava_dat/origin_red.csv\", index_col=0)\n",
    "X = origin_red.drop('fraud', axis=1)\n",
    "y = origin_red[ 'fraud']\n",
    "\n",
    "nadvzrk = RandomOverSampler(sampling_strategy='auto', random_state=42)\n",
    "\n",
    "X_train, X_test, y_train, y_test = train_test_split(X, y, test_size=0.2, random_state=42) \n",
    "X_train_resampled, y_train_resampled = nadvzrk.fit_resample(X_train, y_train)\n",
    "\n",
    "model = LGBMClassifier(random_state=0)\n",
    "model.fit(X_train_resampled, y_train_resampled)\n",
    "\n",
    "predikovane = model.predict(X_test)\n",
    "\n",
    "print(\"Kontingenčná tabuľka:\")\n",
    "print(pd.crosstab(y_test, predikovane))\n",
    "print(\"Report:\")\n",
    "print(classification_report(y_test, predikovane, digits=4))\n",
    "\n",
    "tn, fp, fn, tp = confusion_matrix(y_test, predikovane).ravel()\n",
    "speci = tn / (tn + fp)\n",
    "print(\"Špecificita:\", round(speci, 4))"
   ]
  },
  {
   "cell_type": "markdown",
   "id": "f277d8f2-adf3-4e22-bb34-2cb0dda834ad",
   "metadata": {},
   "source": [
    "## 3. Normalizované dáta"
   ]
  },
  {
   "cell_type": "markdown",
   "id": "adb19be5-758b-4fc7-999f-61aa316d114a",
   "metadata": {},
   "source": [
    "### a) bez redukcie"
   ]
  },
  {
   "cell_type": "code",
   "execution_count": 4,
   "id": "4af39776-9ec5-49d1-9cd7-793cee24650e",
   "metadata": {},
   "outputs": [
    {
     "name": "stdout",
     "output_type": "stream",
     "text": [
      "[LightGBM] [Info] Number of positive: 273534, number of negative: 273534\n",
      "[LightGBM] [Info] Auto-choosing row-wise multi-threading, the overhead of testing was 0.002937 seconds.\n",
      "You can set `force_row_wise=true` to remove the overhead.\n",
      "And if memory is not enough, you can set `force_col_wise=true`.\n",
      "[LightGBM] [Info] Total Bins 1245\n",
      "[LightGBM] [Info] Number of data points in the train set: 547068, number of used features: 9\n",
      "[LightGBM] [Info] [binary:BoostFromScore]: pavg=0.500000 -> initscore=0.000000\n",
      "Kontingenčná tabuľka:\n",
      "col_0    0.0   1.0\n",
      "fraud             \n",
      "0.0    67224  1142\n",
      "1.0        1  4304\n",
      "Report:\n",
      "              precision    recall  f1-score   support\n",
      "\n",
      "         0.0     1.0000    0.9833    0.9916     68366\n",
      "         1.0     0.7903    0.9998    0.8828      4305\n",
      "\n",
      "    accuracy                         0.9843     72671\n",
      "   macro avg     0.8951    0.9915    0.9372     72671\n",
      "weighted avg     0.9876    0.9843    0.9851     72671\n",
      "\n",
      "Špecificita: 0.9833\n"
     ]
    }
   ],
   "source": [
    "norm = pd.read_csv(\"../Priprava_dat/norm.csv\", index_col=0)\n",
    "X = norm[['trustLevel', 'totalScanTimeInSeconds','grandTotal', 'lineItemVoids', 'scansWithoutRegistration','quantityModifications', 'scannedLineItemsPerSecond', 'valuePerSecond', 'lineItemVoidsPerPosition']]\n",
    "y = norm[ 'fraud']\n",
    "\n",
    "nadvzrk = RandomOverSampler(sampling_strategy='auto', random_state=42)\n",
    "\n",
    "X_train, X_test, y_train, y_test = train_test_split(X, y, test_size=0.2, random_state=42) \n",
    "X_train_resampled, y_train_resampled = nadvzrk.fit_resample(X_train, y_train)\n",
    "\n",
    "model = LGBMClassifier(random_state=0)\n",
    "model.fit(X_train_resampled, y_train_resampled)\n",
    "\n",
    "predikovane = model.predict(X_test)\n",
    "\n",
    "print(\"Kontingenčná tabuľka:\")\n",
    "print(pd.crosstab(y_test, predikovane))\n",
    "print(\"Report:\")\n",
    "print(classification_report(y_test, predikovane, digits=4))\n",
    "\n",
    "tn, fp, fn, tp = confusion_matrix(y_test, predikovane).ravel()\n",
    "speci = tn / (tn + fp)\n",
    "print(\"Špecificita:\", round(speci, 4))"
   ]
  },
  {
   "cell_type": "markdown",
   "id": "25bcc5e3-e138-4270-8d81-a2dd72550a35",
   "metadata": {},
   "source": [
    "### b) s redukciou"
   ]
  },
  {
   "cell_type": "code",
   "execution_count": 5,
   "id": "029952ad-b3a2-49c4-9b92-2ec9a1e2fac6",
   "metadata": {},
   "outputs": [
    {
     "name": "stdout",
     "output_type": "stream",
     "text": [
      "[LightGBM] [Info] Number of positive: 273534, number of negative: 273534\n",
      "[LightGBM] [Info] Auto-choosing row-wise multi-threading, the overhead of testing was 0.002936 seconds.\n",
      "You can set `force_row_wise=true` to remove the overhead.\n",
      "And if memory is not enough, you can set `force_col_wise=true`.\n",
      "[LightGBM] [Info] Total Bins 984\n",
      "[LightGBM] [Info] Number of data points in the train set: 547068, number of used features: 7\n",
      "[LightGBM] [Info] [binary:BoostFromScore]: pavg=0.500000 -> initscore=0.000000\n",
      "Kontingenčná tabuľka:\n",
      "col_0    0.0   1.0\n",
      "fraud             \n",
      "0.0    67206  1160\n",
      "1.0        1  4304\n",
      "Report:\n",
      "              precision    recall  f1-score   support\n",
      "\n",
      "         0.0     1.0000    0.9830    0.9914     68366\n",
      "         1.0     0.7877    0.9998    0.8812      4305\n",
      "\n",
      "    accuracy                         0.9840     72671\n",
      "   macro avg     0.8938    0.9914    0.9363     72671\n",
      "weighted avg     0.9874    0.9840    0.9849     72671\n",
      "\n",
      "Špecificita: 0.983\n"
     ]
    }
   ],
   "source": [
    "norm_red = pd.read_csv(\"../Priprava_dat/norm_red.csv\", index_col=0)\n",
    "X = norm_red.drop('fraud', axis=1)\n",
    "y = norm_red[ 'fraud']\n",
    "\n",
    "nadvzrk = RandomOverSampler(sampling_strategy='auto', random_state=42)\n",
    "\n",
    "X_train, X_test, y_train, y_test = train_test_split(X, y, test_size=0.2, random_state=42) \n",
    "X_train_resampled, y_train_resampled = nadvzrk.fit_resample(X_train, y_train)\n",
    "\n",
    "model = LGBMClassifier(random_state=0)\n",
    "model.fit(X_train_resampled, y_train_resampled)\n",
    "\n",
    "predikovane = model.predict(X_test)\n",
    "\n",
    "print(\"Kontingenčná tabuľka:\")\n",
    "print(pd.crosstab(y_test, predikovane))\n",
    "print(\"Report:\")\n",
    "print(classification_report(y_test, predikovane, digits=4))\n",
    "\n",
    "tn, fp, fn, tp = confusion_matrix(y_test, predikovane).ravel()\n",
    "speci = tn / (tn + fp)\n",
    "print(\"Špecificita:\", round(speci, 4))"
   ]
  },
  {
   "cell_type": "markdown",
   "id": "f0c863ab-2414-4880-9d58-107a1fe6cece",
   "metadata": {},
   "source": [
    "## 4. Diskretizované dáta"
   ]
  },
  {
   "cell_type": "markdown",
   "id": "1d3ae3d5-f8c2-426c-8a47-e0c829b37c85",
   "metadata": {},
   "source": [
    "### a) bez redukcie"
   ]
  },
  {
   "cell_type": "code",
   "execution_count": 6,
   "id": "5d32c73f-f381-47c6-8127-9afbeb7c3a0c",
   "metadata": {},
   "outputs": [
    {
     "name": "stdout",
     "output_type": "stream",
     "text": [
      "[LightGBM] [Info] Number of positive: 273534, number of negative: 273534\n",
      "[LightGBM] [Info] Auto-choosing row-wise multi-threading, the overhead of testing was 0.003684 seconds.\n",
      "You can set `force_row_wise=true` to remove the overhead.\n",
      "And if memory is not enough, you can set `force_col_wise=true`.\n",
      "[LightGBM] [Info] Total Bins 101\n",
      "[LightGBM] [Info] Number of data points in the train set: 547068, number of used features: 9\n",
      "[LightGBM] [Info] [binary:BoostFromScore]: pavg=0.500000 -> initscore=0.000000\n",
      "Kontingenčná tabuľka:\n",
      "col_0    0.0   1.0\n",
      "fraud             \n",
      "0.0    66159  2207\n",
      "1.0       24  4281\n",
      "Report:\n",
      "              precision    recall  f1-score   support\n",
      "\n",
      "         0.0     0.9996    0.9677    0.9834     68366\n",
      "         1.0     0.6598    0.9944    0.7933      4305\n",
      "\n",
      "    accuracy                         0.9693     72671\n",
      "   macro avg     0.8297    0.9811    0.8884     72671\n",
      "weighted avg     0.9795    0.9693    0.9722     72671\n",
      "\n",
      "Špecificita: 0.9677\n"
     ]
    }
   ],
   "source": [
    "dis = pd.read_csv(\"../Priprava_dat/dis.csv\", index_col=0)\n",
    "X = dis[['trustLevel', 'totalScanTimeInSeconds','grandTotal', 'lineItemVoids', 'scansWithoutRegistration','quantityModifications', 'scannedLineItemsPerSecond', 'valuePerSecond', 'lineItemVoidsPerPosition']]\n",
    "y = dis[ 'fraud']\n",
    "\n",
    "nadvzrk = RandomOverSampler(sampling_strategy='auto', random_state=42)\n",
    "\n",
    "X_train, X_test, y_train, y_test = train_test_split(X, y, test_size=0.2, random_state=42) \n",
    "X_train_resampled, y_train_resampled = nadvzrk.fit_resample(X_train, y_train)\n",
    "\n",
    "model = LGBMClassifier(random_state=0)\n",
    "model.fit(X_train_resampled, y_train_resampled)\n",
    "\n",
    "predikovane = model.predict(X_test)\n",
    "\n",
    "print(\"Kontingenčná tabuľka:\")\n",
    "print(pd.crosstab(y_test, predikovane))\n",
    "print(\"Report:\")\n",
    "print(classification_report(y_test, predikovane, digits=4))\n",
    "\n",
    "tn, fp, fn, tp = confusion_matrix(y_test, predikovane).ravel()\n",
    "speci = tn / (tn + fp)\n",
    "print(\"Špecificita:\", round(speci, 4))"
   ]
  },
  {
   "cell_type": "markdown",
   "id": "52cf6669-a0b3-4964-9fa4-2c3a21f2a081",
   "metadata": {},
   "source": [
    "### b) s redukciou"
   ]
  },
  {
   "cell_type": "code",
   "execution_count": 7,
   "id": "5cb4ad7f-7b34-497f-8121-c4df5f3b488c",
   "metadata": {},
   "outputs": [
    {
     "name": "stdout",
     "output_type": "stream",
     "text": [
      "[LightGBM] [Info] Number of positive: 273534, number of negative: 273534\n",
      "[LightGBM] [Info] Auto-choosing col-wise multi-threading, the overhead of testing was 0.012489 seconds.\n",
      "You can set `force_col_wise=true` to remove the overhead.\n",
      "[LightGBM] [Info] Total Bins 82\n",
      "[LightGBM] [Info] Number of data points in the train set: 547068, number of used features: 7\n",
      "[LightGBM] [Info] [binary:BoostFromScore]: pavg=0.500000 -> initscore=0.000000\n",
      "Kontingenčná tabuľka:\n",
      "col_0    0.0   1.0\n",
      "fraud             \n",
      "0.0    66184  2182\n",
      "1.0       27  4278\n",
      "Report:\n",
      "              precision    recall  f1-score   support\n",
      "\n",
      "         0.0     0.9996    0.9681    0.9836     68366\n",
      "         1.0     0.6622    0.9937    0.7948      4305\n",
      "\n",
      "    accuracy                         0.9696     72671\n",
      "   macro avg     0.8309    0.9809    0.8892     72671\n",
      "weighted avg     0.9796    0.9696    0.9724     72671\n",
      "\n",
      "Špecificita: 0.9681\n"
     ]
    }
   ],
   "source": [
    "dis_red = pd.read_csv(\"../Priprava_dat/dis_red.csv\", index_col=0)\n",
    "X = dis_red.drop('fraud', axis=1)\n",
    "y = dis_red[ 'fraud']\n",
    "\n",
    "nadvzrk = RandomOverSampler(sampling_strategy='auto', random_state=42)\n",
    "\n",
    "X_train, X_test, y_train, y_test = train_test_split(X, y, test_size=0.2, random_state=42) \n",
    "X_train_resampled, y_train_resampled = nadvzrk.fit_resample(X_train, y_train)\n",
    "\n",
    "model = LGBMClassifier(random_state=0)\n",
    "model.fit(X_train_resampled, y_train_resampled)\n",
    "\n",
    "predikovane = model.predict(X_test)\n",
    "\n",
    "print(\"Kontingenčná tabuľka:\")\n",
    "print(pd.crosstab(y_test, predikovane))\n",
    "print(\"Report:\")\n",
    "print(classification_report(y_test, predikovane, digits=4))\n",
    "\n",
    "tn, fp, fn, tp = confusion_matrix(y_test, predikovane).ravel()\n",
    "speci = tn / (tn + fp)\n",
    "print(\"Špecificita:\", round(speci, 4))"
   ]
  },
  {
   "cell_type": "code",
   "execution_count": null,
   "id": "6a9bf9e5-cccd-47c6-b5e5-f29bb5fa01cd",
   "metadata": {},
   "outputs": [],
   "source": []
  }
 ],
 "metadata": {
  "kernelspec": {
   "display_name": "base",
   "language": "python",
   "name": "python3"
  },
  "language_info": {
   "codemirror_mode": {
    "name": "ipython",
    "version": 3
   },
   "file_extension": ".py",
   "mimetype": "text/x-python",
   "name": "python",
   "nbconvert_exporter": "python",
   "pygments_lexer": "ipython3",
   "version": "3.12.4"
  }
 },
 "nbformat": 4,
 "nbformat_minor": 5
}
