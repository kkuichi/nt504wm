{
 "cells": [
  {
   "cell_type": "markdown",
   "id": "9ce27ed6-ca33-4e1a-8695-1301e4c72925",
   "metadata": {},
   "source": [
    "# Naivný Bayes"
   ]
  },
  {
   "cell_type": "markdown",
   "id": "d0b03c2c-d154-499c-8713-15f28de3eac3",
   "metadata": {},
   "source": [
    "## 1. Import knižníc"
   ]
  },
  {
   "cell_type": "code",
   "execution_count": 1,
   "id": "c422e4ed-963f-4508-a8c3-f88fa0156965",
   "metadata": {},
   "outputs": [],
   "source": [
    "from sklearn.naive_bayes import GaussianNB\n",
    "from sklearn.model_selection import train_test_split\n",
    "from sklearn.metrics import classification_report\n",
    "from sklearn.metrics import accuracy_score\n",
    "from imblearn.over_sampling import RandomOverSampler\n",
    "from sklearn.metrics import confusion_matrix\n",
    "import pandas as pd\n",
    "import numpy as np\n",
    "import seaborn as sns\n",
    "import matplotlib.pyplot as plt"
   ]
  },
  {
   "cell_type": "markdown",
   "id": "f6ab7f84-b080-4309-88f9-e28b3e40d8bb",
   "metadata": {},
   "source": [
    "## 2. Pôvodné dáta"
   ]
  },
  {
   "cell_type": "markdown",
   "id": "927301bb-560e-4086-bfd9-794a320e61fe",
   "metadata": {},
   "source": [
    "### a) bez redukcie"
   ]
  },
  {
   "cell_type": "code",
   "execution_count": 2,
   "id": "35701f0c-9f83-404c-a6d0-d89013a086ed",
   "metadata": {},
   "outputs": [
    {
     "name": "stdout",
     "output_type": "stream",
     "text": [
      "Kontingenčná tabuľka:\n",
      "col_0      0      1\n",
      "fraud              \n",
      "0      75332  19822\n",
      "1         19   4827\n",
      "Report:\n",
      "              precision    recall  f1-score   support\n",
      "\n",
      "           0     0.9997    0.7917    0.8836     95154\n",
      "           1     0.1958    0.9961    0.3273      4846\n",
      "\n",
      "    accuracy                         0.8016    100000\n",
      "   macro avg     0.5978    0.8939    0.6055    100000\n",
      "weighted avg     0.9608    0.8016    0.8567    100000\n",
      "\n",
      "Špecificita: 0.7917\n"
     ]
    }
   ],
   "source": [
    "origin = pd.read_csv(\"../Priprava_dat/origin.csv\", index_col=0)\n",
    "X = origin.drop('fraud', axis=1)\n",
    "y = origin[ 'fraud']\n",
    "\n",
    "nadvzrk = RandomOverSampler(sampling_strategy='auto', random_state=42)\n",
    "\n",
    "X_train, X_test, y_train, y_test = train_test_split(X, y, test_size=0.2, random_state=42) \n",
    "X_train_resampled, y_train_resampled = nadvzrk.fit_resample(X_train, y_train)\n",
    "\n",
    "model = GaussianNB()\n",
    "model.fit(X_train_resampled, y_train_resampled)\n",
    "\n",
    "predikovane = model.predict(X_test)\n",
    "\n",
    "print(\"Kontingenčná tabuľka:\")\n",
    "print(pd.crosstab(y_test, predikovane))\n",
    "print(\"Report:\")\n",
    "print(classification_report(y_test, predikovane, digits=4))\n",
    "\n",
    "tn, fp, fn, tp = confusion_matrix(y_test, predikovane).ravel()\n",
    "speci = tn / (tn + fp)\n",
    "print(\"Špecificita:\", round(speci, 4))"
   ]
  },
  {
   "cell_type": "markdown",
   "id": "c22aeb9a-4625-48fe-9aa5-87b174ed6e38",
   "metadata": {},
   "source": [
    "### b) s redukciou"
   ]
  },
  {
   "cell_type": "code",
   "execution_count": 3,
   "id": "69b5aa8a-f683-4eba-9b2f-2aaae70e5d3d",
   "metadata": {},
   "outputs": [
    {
     "name": "stdout",
     "output_type": "stream",
     "text": [
      "Kontingenčná tabuľka:\n",
      "col_0      0      1\n",
      "fraud              \n",
      "0      75329  19825\n",
      "1         19   4827\n",
      "Report:\n",
      "              precision    recall  f1-score   support\n",
      "\n",
      "           0     0.9997    0.7917    0.8836     95154\n",
      "           1     0.1958    0.9961    0.3273      4846\n",
      "\n",
      "    accuracy                         0.8016    100000\n",
      "   macro avg     0.5978    0.8939    0.6054    100000\n",
      "weighted avg     0.9608    0.8016    0.8567    100000\n",
      "\n",
      "Špecificita: 0.7917\n"
     ]
    }
   ],
   "source": [
    "origin_red = pd.read_csv(\"../Priprava_dat/origin_red.csv\", index_col=0)\n",
    "X = origin_red.drop('fraud', axis=1)\n",
    "y = origin_red[ 'fraud']\n",
    "\n",
    "nadvzrk = RandomOverSampler(sampling_strategy='auto', random_state=42)\n",
    "\n",
    "X_train, X_test, y_train, y_test = train_test_split(X, y, test_size=0.2, random_state=42) \n",
    "X_train_resampled, y_train_resampled = nadvzrk.fit_resample(X_train, y_train)\n",
    "\n",
    "model = GaussianNB()\n",
    "model.fit(X_train_resampled, y_train_resampled)\n",
    "\n",
    "predikovane = model.predict(X_test)\n",
    "\n",
    "print(\"Kontingenčná tabuľka:\")\n",
    "print(pd.crosstab(y_test, predikovane))\n",
    "print(\"Report:\")\n",
    "print(classification_report(y_test, predikovane, digits=4))\n",
    "\n",
    "tn, fp, fn, tp = confusion_matrix(y_test, predikovane).ravel()\n",
    "speci = tn / (tn + fp)\n",
    "print(\"Špecificita:\", round(speci, 4))"
   ]
  },
  {
   "cell_type": "markdown",
   "id": "f277d8f2-adf3-4e22-bb34-2cb0dda834ad",
   "metadata": {},
   "source": [
    "## 3. Normalizované dáta"
   ]
  },
  {
   "cell_type": "markdown",
   "id": "d07f64a7-6a3f-45ab-8acd-c73197c7b200",
   "metadata": {},
   "source": [
    "### a) bez redukcie"
   ]
  },
  {
   "cell_type": "code",
   "execution_count": 4,
   "id": "4af39776-9ec5-49d1-9cd7-793cee24650e",
   "metadata": {},
   "outputs": [
    {
     "name": "stdout",
     "output_type": "stream",
     "text": [
      "Kontingenčná tabuľka:\n",
      "col_0    0.0    1.0\n",
      "fraud              \n",
      "0.0    57719  10647\n",
      "1.0       26   4279\n",
      "Report:\n",
      "              precision    recall  f1-score   support\n",
      "\n",
      "         0.0     0.9995    0.8443    0.9154     68366\n",
      "         1.0     0.2867    0.9940    0.4450      4305\n",
      "\n",
      "    accuracy                         0.8531     72671\n",
      "   macro avg     0.6431    0.9191    0.6802     72671\n",
      "weighted avg     0.9573    0.8531    0.8875     72671\n",
      "\n",
      "Špecificita: 0.8443\n"
     ]
    }
   ],
   "source": [
    "norm = pd.read_csv(\"../Priprava_dat/norm.csv\", index_col=0)\n",
    "X = norm[['trustLevel', 'totalScanTimeInSeconds','grandTotal', 'lineItemVoids', 'scansWithoutRegistration','quantityModifications', 'scannedLineItemsPerSecond', 'valuePerSecond', 'lineItemVoidsPerPosition']]\n",
    "y = norm[ 'fraud']\n",
    "\n",
    "nadvzrk = RandomOverSampler(sampling_strategy='auto', random_state=42)\n",
    "\n",
    "X_train, X_test, y_train, y_test = train_test_split(X, y, test_size=0.2, random_state=42) \n",
    "X_train_resampled, y_train_resampled = nadvzrk.fit_resample(X_train, y_train)\n",
    "\n",
    "model = GaussianNB()\n",
    "model.fit(X_train_resampled, y_train_resampled)\n",
    "\n",
    "predikovane = model.predict(X_test)\n",
    "\n",
    "print(\"Kontingenčná tabuľka:\")\n",
    "print(pd.crosstab(y_test, predikovane))\n",
    "print(\"Report:\")\n",
    "print(classification_report(y_test, predikovane, digits=4))\n",
    "\n",
    "tn, fp, fn, tp = confusion_matrix(y_test, predikovane).ravel()\n",
    "speci = tn / (tn + fp)\n",
    "print(\"Špecificita:\", round(speci, 4))"
   ]
  },
  {
   "cell_type": "markdown",
   "id": "6a41eec5-6370-41bc-ba62-a3b517f36541",
   "metadata": {},
   "source": [
    "### b) s redukciou"
   ]
  },
  {
   "cell_type": "code",
   "execution_count": 5,
   "id": "029952ad-b3a2-49c4-9b92-2ec9a1e2fac6",
   "metadata": {},
   "outputs": [
    {
     "name": "stdout",
     "output_type": "stream",
     "text": [
      "Kontingenčná tabuľka:\n",
      "col_0    0.0    1.0\n",
      "fraud              \n",
      "0.0    57672  10694\n",
      "1.0       29   4276\n",
      "Report:\n",
      "              precision    recall  f1-score   support\n",
      "\n",
      "         0.0     0.9995    0.8436    0.9149     68366\n",
      "         1.0     0.2856    0.9933    0.4437      4305\n",
      "\n",
      "    accuracy                         0.8524     72671\n",
      "   macro avg     0.6426    0.9184    0.6793     72671\n",
      "weighted avg     0.9572    0.8524    0.8870     72671\n",
      "\n",
      "Špecificita: 0.8436\n"
     ]
    }
   ],
   "source": [
    "norm_red = pd.read_csv(\"../Priprava_dat/norm_red.csv\", index_col=0)\n",
    "X = norm_red.drop('fraud', axis=1)\n",
    "y = norm_red[ 'fraud']\n",
    "\n",
    "nadvzrk = RandomOverSampler(sampling_strategy='auto', random_state=42)\n",
    "\n",
    "X_train, X_test, y_train, y_test = train_test_split(X, y, test_size=0.2, random_state=42) \n",
    "X_train_resampled, y_train_resampled = nadvzrk.fit_resample(X_train, y_train)\n",
    "\n",
    "model = GaussianNB()\n",
    "model.fit(X_train_resampled, y_train_resampled)\n",
    "\n",
    "predikovane = model.predict(X_test)\n",
    "\n",
    "print(\"Kontingenčná tabuľka:\")\n",
    "print(pd.crosstab(y_test, predikovane))\n",
    "print(\"Report:\")\n",
    "print(classification_report(y_test, predikovane, digits=4))\n",
    "\n",
    "tn, fp, fn, tp = confusion_matrix(y_test, predikovane).ravel()\n",
    "speci = tn / (tn + fp)\n",
    "print(\"Špecificita:\", round(speci, 4))\n"
   ]
  },
  {
   "cell_type": "markdown",
   "id": "f0c863ab-2414-4880-9d58-107a1fe6cece",
   "metadata": {},
   "source": [
    "## 4. Diskretizované dáta"
   ]
  },
  {
   "cell_type": "markdown",
   "id": "07986947-51cf-4d38-8820-64e0ce7ccb18",
   "metadata": {},
   "source": [
    "### a) bez redukcie"
   ]
  },
  {
   "cell_type": "code",
   "execution_count": 6,
   "id": "5d32c73f-f381-47c6-8127-9afbeb7c3a0c",
   "metadata": {},
   "outputs": [
    {
     "name": "stdout",
     "output_type": "stream",
     "text": [
      "Kontingenčná tabuľka:\n",
      "col_0    0.0    1.0\n",
      "fraud              \n",
      "0.0    57493  10873\n",
      "1.0       32   4273\n",
      "Report:\n",
      "              precision    recall  f1-score   support\n",
      "\n",
      "         0.0     0.9994    0.8410    0.9134     68366\n",
      "         1.0     0.2821    0.9926    0.4394      4305\n",
      "\n",
      "    accuracy                         0.8499     72671\n",
      "   macro avg     0.6408    0.9168    0.6764     72671\n",
      "weighted avg     0.9569    0.8499    0.8853     72671\n",
      "\n",
      "Špecificita: 0.841\n"
     ]
    }
   ],
   "source": [
    "dis = pd.read_csv(\"../Priprava_dat/dis.csv\", index_col=0)\n",
    "X = dis[['trustLevel', 'totalScanTimeInSeconds','grandTotal', 'lineItemVoids', 'scansWithoutRegistration','quantityModifications', 'scannedLineItemsPerSecond', 'valuePerSecond', 'lineItemVoidsPerPosition']]\n",
    "y = dis[ 'fraud']\n",
    "\n",
    "nadvzrk = RandomOverSampler(sampling_strategy='auto', random_state=42)\n",
    "\n",
    "X_train, X_test, y_train, y_test = train_test_split(X, y, test_size=0.2, random_state=42) \n",
    "X_train_resampled, y_train_resampled = nadvzrk.fit_resample(X_train, y_train)\n",
    "\n",
    "model = GaussianNB()\n",
    "model.fit(X_train_resampled, y_train_resampled)\n",
    "\n",
    "predikovane = model.predict(X_test)\n",
    "\n",
    "print(\"Kontingenčná tabuľka:\")\n",
    "print(pd.crosstab(y_test, predikovane))\n",
    "print(\"Report:\")\n",
    "print(classification_report(y_test, predikovane, digits=4))\n",
    "\n",
    "tn, fp, fn, tp = confusion_matrix(y_test, predikovane).ravel()\n",
    "speci = tn / (tn + fp)\n",
    "print(\"Špecificita:\", round(speci, 4))"
   ]
  },
  {
   "cell_type": "markdown",
   "id": "43f1c241-cca4-45bd-adcd-3721c54283c3",
   "metadata": {},
   "source": [
    "### b) s redukciou"
   ]
  },
  {
   "cell_type": "code",
   "execution_count": 7,
   "id": "5cb4ad7f-7b34-497f-8121-c4df5f3b488c",
   "metadata": {},
   "outputs": [
    {
     "name": "stdout",
     "output_type": "stream",
     "text": [
      "Kontingenčná tabuľka:\n",
      "col_0    0.0    1.0\n",
      "fraud              \n",
      "0.0    57451  10915\n",
      "1.0       35   4270\n",
      "Report:\n",
      "              precision    recall  f1-score   support\n",
      "\n",
      "         0.0     0.9994    0.8403    0.9130     68366\n",
      "         1.0     0.2812    0.9919    0.4382      4305\n",
      "\n",
      "    accuracy                         0.8493     72671\n",
      "   macro avg     0.6403    0.9161    0.6756     72671\n",
      "weighted avg     0.9568    0.8493    0.8849     72671\n",
      "\n",
      "Špecificita: 0.8403\n"
     ]
    }
   ],
   "source": [
    "dis_red = pd.read_csv(\"../Priprava_dat/dis_red.csv\", index_col=0)\n",
    "X = dis_red.drop('fraud', axis=1)\n",
    "y = dis_red[ 'fraud']\n",
    "\n",
    "nadvzrk = RandomOverSampler(sampling_strategy='auto', random_state=42)\n",
    "\n",
    "X_train, X_test, y_train, y_test = train_test_split(X, y, test_size=0.2, random_state=42) \n",
    "X_train_resampled, y_train_resampled = nadvzrk.fit_resample(X_train, y_train)\n",
    "\n",
    "model = GaussianNB()\n",
    "model.fit(X_train_resampled, y_train_resampled)\n",
    "\n",
    "predikovane = model.predict(X_test)\n",
    "\n",
    "print(\"Kontingenčná tabuľka:\")\n",
    "print(pd.crosstab(y_test, predikovane))\n",
    "print(\"Report:\")\n",
    "print(classification_report(y_test, predikovane, digits=4))\n",
    "\n",
    "tn, fp, fn, tp = confusion_matrix(y_test, predikovane).ravel()\n",
    "speci = tn / (tn + fp)\n",
    "print(\"Špecificita:\", round(speci, 4))"
   ]
  },
  {
   "cell_type": "code",
   "execution_count": null,
   "id": "b49a98ca",
   "metadata": {},
   "outputs": [],
   "source": []
  },
  {
   "cell_type": "code",
   "execution_count": null,
   "id": "058d0e01",
   "metadata": {},
   "outputs": [],
   "source": []
  }
 ],
 "metadata": {
  "kernelspec": {
   "display_name": "base",
   "language": "python",
   "name": "python3"
  },
  "language_info": {
   "codemirror_mode": {
    "name": "ipython",
    "version": 3
   },
   "file_extension": ".py",
   "mimetype": "text/x-python",
   "name": "python",
   "nbconvert_exporter": "python",
   "pygments_lexer": "ipython3",
   "version": "3.12.4"
  }
 },
 "nbformat": 4,
 "nbformat_minor": 5
}
